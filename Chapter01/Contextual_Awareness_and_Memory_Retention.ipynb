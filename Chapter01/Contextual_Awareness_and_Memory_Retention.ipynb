{
  "cells": [
    {
      "cell_type": "markdown",
      "metadata": {
        "id": "V44bTqjnKFxZ"
      },
      "source": [
        "#Contextual Awareness and Memory Retention\n",
        "\n",
        "copyright 2025, Denis Rothman\n",
        "\n",
        "This educational notebook is an introduction to varying levels of contextual awareness and memory retention of an AI controller's management of a generative AI models's API:\n",
        "\n",
        "1.Stateless and memoryless session  \n",
        "2.Short-term memory session   \n",
        "3.Long-term memory of multiple sessions   \n",
        "4.Long-term memory of multiple cross-topic sessions   \n",
        "\n",
        "The goal of the notebook is to illustrate some of the main contextual awareness and memory retention approaches that the AI controller of a  Generative AI System uses during conversational sessions.\n",
        "\n",
        "**Usage recommendations:** Run the whole notebook in one session. In this notebook, memory retention is explicit in different cells. In *Chapter 2, Building the  Generative AI model controller*, the functionality of this notebook will be automated and managed by an AI controller.\n"
      ]
    },
    {
      "cell_type": "markdown",
      "metadata": {
        "id": "L2VKAYbVikQb"
      },
      "source": [
        "# Setting up the environment"
      ]
    },
    {
      "cell_type": "markdown",
      "metadata": {
        "id": "hFfEHkuA3Tbr"
      },
      "source": [
        "This notebook was developed in Google Colab. Colab includes many pre-installed libraries and sets `/content/` as the default directory, meaning you can access files directly by their filename if you wish (e.g., `filename` instead of needing to specify `/content/filename`). This differs from local environments, where you'll often need to install libraries or specify full file paths."
      ]
    },
    {
      "cell_type": "markdown",
      "metadata": {
        "id": "S8_G2ePO11rQ"
      },
      "source": [
        "## File downloading script\n",
        "\n",
        "grequests contains a script to download files from the repository"
      ]
    },
    {
      "cell_type": "code",
      "execution_count": 1,
      "metadata": {
        "id": "vzkCTNNChWAJ",
        "outputId": "cea0be6a-f9ae-4d10-f29c-04c973c77319",
        "colab": {
          "base_uri": "https://localhost:8080/"
        }
      },
      "outputs": [
        {
          "output_type": "stream",
          "name": "stdout",
          "text": [
            "  % Total    % Received % Xferd  Average Speed   Time    Time     Time  Current\n",
            "                                 Dload  Upload   Total   Spent    Left  Speed\n",
            "\r  0     0    0     0    0     0      0      0 --:--:-- --:--:-- --:--:--     0\r100   865  100   865    0     0   3674      0 --:--:-- --:--:-- --:--:--  3665\r100   865  100   865    0     0   3645      0 --:--:-- --:--:-- --:--:--  3634\n"
          ]
        }
      ],
      "source": [
        "!curl -L https://raw.githubusercontent.com/Denis2054/Building-Business-Ready-Generative-AI-Systems/master/commons/grequests.py --output grequests.py"
      ]
    },
    {
      "cell_type": "markdown",
      "metadata": {
        "id": "9kNLfjTfAnFR"
      },
      "source": [
        "## Installing OpenAI"
      ]
    },
    {
      "cell_type": "code",
      "execution_count": 2,
      "metadata": {
        "id": "MFwDZDHOxhJe",
        "outputId": "9a7e34e1-ca57-40d7-eb40-1213a1f96821",
        "colab": {
          "base_uri": "https://localhost:8080/"
        }
      },
      "outputs": [
        {
          "output_type": "stream",
          "name": "stdout",
          "text": [
            "Downloaded 'requirements01.py' successfully.\n",
            "Downloaded 'openai_setup.py' successfully.\n",
            "Downloaded 'openai_api.py' successfully.\n"
          ]
        }
      ],
      "source": [
        "from grequests import download\n",
        "download(\"commons\",\"requirements01.py\")\n",
        "download(\"commons\",\"openai_setup.py\")\n",
        "download(\"commons\",\"openai_api.py\")"
      ]
    },
    {
      "cell_type": "code",
      "execution_count": 3,
      "metadata": {
        "id": "a7i8j5vnpatH",
        "outputId": "11954eb2-5a3f-4344-b540-17f116f77f64",
        "colab": {
          "base_uri": "https://localhost:8080/"
        }
      },
      "outputs": [
        {
          "output_type": "stream",
          "name": "stdout",
          "text": [
            "Uninstalling 'openai'...\n",
            "Installing 'openai' version 1.57.1...\n",
            "'openai' version 1.57.1 is installed.\n"
          ]
        }
      ],
      "source": [
        "# Run the setup script to install and import dependencies\n",
        "%run requirements01"
      ]
    },
    {
      "cell_type": "markdown",
      "metadata": {
        "id": "O03SZzGGAreV"
      },
      "source": [
        "### Initializing the OpenAI API key"
      ]
    },
    {
      "cell_type": "code",
      "execution_count": 4,
      "metadata": {
        "id": "pDn09vPbAXPT",
        "outputId": "39da0337-62d0-414d-9942-e82ae800602c",
        "colab": {
          "base_uri": "https://localhost:8080/"
        }
      },
      "outputs": [
        {
          "output_type": "stream",
          "name": "stdout",
          "text": [
            "OpenAI API key initialized successfully.\n"
          ]
        }
      ],
      "source": [
        "google_secrets=True #activates Google secrets in Google Colab\n",
        "if google_secrets==True:\n",
        "  import openai_setup\n",
        "  openai_setup.initialize_openai_api()"
      ]
    },
    {
      "cell_type": "code",
      "execution_count": 5,
      "metadata": {
        "id": "zer4gyvICLkI"
      },
      "outputs": [],
      "source": [
        "if google_secrets==False: # Uncomment the code and choose any method you wish to initialize the API_KEY\n",
        "  import os\n",
        "  #API_KEY=[YOUR API_KEY]\n",
        "  #os.environ['OPENAI_API_KEY'] = API_KEY\n",
        "  #openai.api_key = os.getenv(\"OPENAI_API_KEY\")\n",
        "  #print(\"OpenAI API key initialized successfully.\")"
      ]
    },
    {
      "cell_type": "markdown",
      "metadata": {
        "id": "tyRi0ZjbCLkI"
      },
      "source": [
        "### Importing the API call function"
      ]
    },
    {
      "cell_type": "code",
      "execution_count": 6,
      "metadata": {
        "id": "0lMhv09G0kzr"
      },
      "outputs": [],
      "source": [
        "# Import the API request function\n",
        "import openai_api\n",
        "from openai_api import make_openai_api_call"
      ]
    },
    {
      "cell_type": "markdown",
      "metadata": {
        "id": "QDj0PUWBrZyt"
      },
      "source": [
        "#  1.Stateless and memoryless session"
      ]
    },
    {
      "cell_type": "markdown",
      "metadata": {
        "id": "oCRjNVo8DRQH"
      },
      "source": [
        "In this stateless and memoryless example, \"stateless\" indicates that each request is processed independently without retaining information from previous interactions, and \"memoryless\" emphasizes the absence of any built-in mechanism to remember past exchanges. This function is efficient for a single, specific query."
      ]
    },
    {
      "cell_type": "markdown",
      "metadata": {
        "id": "SjJaT4waPQIh"
      },
      "source": [
        "##Semantic query"
      ]
    },
    {
      "cell_type": "code",
      "execution_count": 8,
      "metadata": {
        "id": "7S5OplfgGmaZ"
      },
      "outputs": [],
      "source": [
        "# API message\n",
        "uinput = \"Hawai is on a geological volcano system. Explain:\"\n",
        "mrole = \"system\"\n",
        "mcontent = \"You are an expert in geology.\"\n",
        "user_role = \"user\""
      ]
    },
    {
      "cell_type": "code",
      "execution_count": 9,
      "metadata": {
        "id": "FXCAITeoEHBt",
        "outputId": "de2a0428-ccf1-4304-e527-f0e80505456d",
        "colab": {
          "base_uri": "https://localhost:8080/"
        }
      },
      "outputs": [
        {
          "output_type": "stream",
          "name": "stdout",
          "text": [
            "Hawaii is located on a volcanic hotspot in the central Pacific Ocean, which is responsible for the formation of the Hawaiian Islands. This hotspot is a region where magma from deep within the Earth's mantle rises to the surface, creating volcanic activity. The Hawaiian hotspot is particularly well-known because it is responsible for the creation of a chain of volcanic islands and seamounts that stretches across the Pacific Ocean.\n",
            "\n",
            "Here's a more detailed explanation of the geological processes involved:\n",
            "\n",
            "1. **Hotspot Volcanism**: Unlike most volcanic activity, which occurs at tectonic plate boundaries, hotspot volcanism occurs in the middle of tectonic plates. The Hawaiian hotspot is a stationary plume of hot, upwelling mantle material. As the Pacific Plate moves northwest over this hotspot, the heat and pressure cause the mantle to melt, forming magma.\n",
            "\n",
            "2. **Island Formation**: As the magma rises through the Earth's crust, it erupts on the seafloor, creating volcanic islands. Over time, repeated eruptions build up layers of lava, eventually forming islands that rise above sea level. The Hawaiian Islands are the exposed peaks of these volcanic mountains.\n",
            "\n",
            "3. **Plate Movement**: The Pacific Plate is moving in a northwesterly direction at a rate of about 7-10 centimeters per year. As the plate moves over the stationary hotspot, new volcanoes form, and older ones are carried away from the hotspot. This movement creates a chain of islands and seamounts, with the youngest islands located directly above the hotspot and the oldest ones further away.\n",
            "\n",
            "4. **Volcanic Activity**: The Big Island of Hawaii is currently the most volcanically active part of the chain, as it is located directly over the hotspot. It is home to several active volcanoes, including Kilauea and Mauna Loa. These volcanoes are shield volcanoes, characterized by their broad, gently sloping sides formed by the flow of low-viscosity basaltic lava.\n",
            "\n",
            "5. **Erosion and Subsidence**: As the islands move away from the hotspot, volcanic activity ceases, and the islands begin to erode. Additionally, the weight of the volcanic islands causes the oceanic crust to subside, or sink, over time. This process, combined with erosion, eventually leads to the islands becoming seamounts, which are submerged volcanic mountains.\n",
            "\n",
            "The Hawaiian Islands are a prime example of how hotspot volcanism can create significant geological features and provide insight into the dynamic processes occurring beneath the Earth's surface.\n"
          ]
        }
      ],
      "source": [
        "# API function call\n",
        "response = openai_api.make_openai_api_call(uinput,mrole,mcontent,user_role)\n",
        "print(response)"
      ]
    },
    {
      "cell_type": "markdown",
      "metadata": {
        "id": "Xn7-q-SJPaHD"
      },
      "source": [
        "## Episodic query with a semantic undertone"
      ]
    },
    {
      "cell_type": "code",
      "execution_count": 10,
      "metadata": {
        "id": "ceR4oudbPgMO"
      },
      "outputs": [],
      "source": [
        "# API message\n",
        "uinput = \"I vividly remember my family's move to Hawaii in the 1970s, how they embraced the warmth of its gentle breezes, the joy of finding a steady job, and the serene beauty that surrounded them. Sum this up in one nice sentence from a personal perspective:?\"\n",
        "mrole = \"system\"\n",
        "mcontent = \"You are an expert in geology.\"\n",
        "user_role = \"user\""
      ]
    },
    {
      "cell_type": "markdown",
      "metadata": {
        "id": "icAwaNBhb--z"
      },
      "source": [
        "Augmented input from a text message"
      ]
    },
    {
      "cell_type": "code",
      "execution_count": 11,
      "metadata": {
        "id": "jl1EizvucDhi"
      },
      "outputs": [],
      "source": [
        "text_message='I agree, we had a wonderful time there.'\n",
        "uninput=text_message+uinput"
      ]
    },
    {
      "cell_type": "code",
      "execution_count": 12,
      "metadata": {
        "id": "QxiFf7AuPi4V",
        "outputId": "3df9e2c0-a784-4c9a-fa76-3aa3cb01fe7e",
        "colab": {
          "base_uri": "https://localhost:8080/"
        }
      },
      "outputs": [
        {
          "output_type": "stream",
          "name": "stdout",
          "text": [
            "Moving to Hawaii in the 1970s was a transformative experience for my family, as they found joy in the island's gentle breezes, the stability of steady employment, and the serene beauty that enveloped their new home.\n"
          ]
        }
      ],
      "source": [
        "# API function call\n",
        "response = openai_api.make_openai_api_call(uinput,mrole,mcontent,user_role)\n",
        "print(response)"
      ]
    },
    {
      "cell_type": "markdown",
      "metadata": {
        "id": "Lpk6IC5KN17P"
      },
      "source": [
        "## Stateless and memoryless verification\n",
        "\n",
        "Confirming the session is memoryless"
      ]
    },
    {
      "cell_type": "code",
      "execution_count": 13,
      "metadata": {
        "id": "0TCN0i3hN504"
      },
      "outputs": [],
      "source": [
        "# API message\n",
        "uinput = \"What question did I just ask you?\"\n",
        "mrole = \"system\"\n",
        "mcontent = \"You already have this information\"\n",
        "user_role = \"user\""
      ]
    },
    {
      "cell_type": "code",
      "execution_count": 14,
      "metadata": {
        "id": "Fe9wz2fGOScH",
        "outputId": "d8c1a624-de50-43a1-c03c-7d5323af3215",
        "colab": {
          "base_uri": "https://localhost:8080/"
        }
      },
      "outputs": [
        {
          "output_type": "stream",
          "name": "stdout",
          "text": [
            "I'm sorry, but I can't recall previous interactions or questions. Could you please repeat your question?\n"
          ]
        }
      ],
      "source": [
        "# API function call\n",
        "response = openai_api.make_openai_api_call(uinput,mrole,mcontent,user_role)\n",
        "print(response)"
      ]
    },
    {
      "cell_type": "markdown",
      "metadata": {
        "id": "WwIbj4GGPS3_"
      },
      "source": [
        "# 2.Short-term memory"
      ]
    },
    {
      "cell_type": "markdown",
      "metadata": {
        "id": "Hf9lmXGmP6ZM"
      },
      "source": [
        "A request is processed and retains information from previous interaction through a built-in mechanism to remember a past exchange. This function is efficient for a single session."
      ]
    },
    {
      "cell_type": "code",
      "execution_count": 15,
      "metadata": {
        "id": "TldIxfeuQSTl"
      },
      "outputs": [],
      "source": [
        "uinput = \"Hawai is on a geological volcano system. Explain:\"\n",
        "mrole = \"system\"\n",
        "mcontent = \"You are an expert in geology.\"\n",
        "user_role = \"user\""
      ]
    },
    {
      "cell_type": "code",
      "execution_count": 16,
      "metadata": {
        "id": "teXQsk4rQWdt",
        "outputId": "837ecf3f-d885-4b99-f266-38d6d9a504a7",
        "colab": {
          "base_uri": "https://localhost:8080/"
        }
      },
      "outputs": [
        {
          "output_type": "stream",
          "name": "stdout",
          "text": [
            "Hawaii is part of a volcanic system known as a hotspot, which is a region of the Earth's mantle where heat rises as a thermal plume from deep within the Earth. This process is responsible for the formation of the Hawaiian Islands. Here's a detailed explanation of how this system works:\n",
            "\n",
            "1. **Hotspot Theory**: Unlike most volcanic activity, which occurs at tectonic plate boundaries, hotspots are located in the middle of tectonic plates. The Hawaiian hotspot is one of the most well-known examples. It is believed to be a relatively stationary area of intense heat in the mantle that causes melting and volcanic activity at the surface.\n",
            "\n",
            "2. **Mantle Plume**: The hotspot is thought to be fed by a mantle plume, which is an upwelling of abnormally hot rock within the Earth's mantle. As the plume rises, it partially melts due to the decrease in pressure, creating magma.\n",
            "\n",
            "3. **Volcanic Island Chain Formation**: As the Pacific Plate moves over the stationary hotspot, the magma breaks through the crust, forming a volcano. Over time, as the plate continues to move, the volcano is carried away from the hotspot, and a new volcano begins to form in its place. This process creates a chain of volcanic islands, with the youngest islands located directly above the hotspot and the older islands progressively further away.\n",
            "\n",
            "4. **Hawaiian Islands**: The Hawaiian Islands are the exposed peaks of a great undersea mountain range known as the Hawaiian-Emperor seamount chain. The Big Island of Hawaii is currently located over the hotspot and is home to active volcanoes like Kilauea and Mauna Loa. As the Pacific Plate moves northwest, older islands like Maui, Oahu, and Kauai are carried away from the hotspot and become dormant.\n",
            "\n",
            "5. **Volcanic Activity**: The volcanic activity associated with the Hawaiian hotspot is primarily basaltic, resulting in relatively fluid lava flows. This type of lava creates shield volcanoes, which are characterized by broad, gently sloping sides.\n",
            "\n",
            "6. **Geological Significance**: The study of hotspots like Hawaii provides valuable insights into the dynamics of the Earth's interior, plate tectonics, and the lifecycle of volcanic islands. It also helps scientists understand the processes that shape the Earth's surface over geological time scales.\n",
            "\n",
            "In summary, Hawaii's geological system is a classic example of hotspot volcanism, where a stationary mantle plume creates a series of volcanic islands as the Pacific Plate moves over it. This process has been ongoing for millions of years and continues to shape the Hawaiian archipelago today.\n"
          ]
        }
      ],
      "source": [
        "response = openai_api.make_openai_api_call(uinput,mrole,mcontent,user_role)\n",
        "print(response)"
      ]
    },
    {
      "cell_type": "markdown",
      "metadata": {
        "id": "PXMv8bqFQszU"
      },
      "source": [
        "Let's now simumlate the conversational AI feature that is automated in the core module of an AI controller in *Chapter 2, Building the AI_Controller*.\n",
        "\n",
        "The session now remembers the state of the dialog."
      ]
    },
    {
      "cell_type": "code",
      "execution_count": 17,
      "metadata": {
        "id": "DrF2kbNlQfrb"
      },
      "outputs": [],
      "source": [
        "ninput = \"Sum up your previous response in a short sentence in a maximum of 20 words.\"\n",
        "uinput=\"The current dialog session is :\" + uinput + response + ninput\n",
        "response = openai_api.make_openai_api_call(uinput,mrole,mcontent,user_role)"
      ]
    },
    {
      "cell_type": "code",
      "execution_count": 18,
      "metadata": {
        "id": "dJeM_0L3ZYtN",
        "outputId": "34080414-f7cc-4862-8933-f102ee7b9344",
        "colab": {
          "base_uri": "https://localhost:8080/"
        }
      },
      "outputs": [
        {
          "output_type": "stream",
          "name": "stdout",
          "text": [
            "New response: Hawaii's volcanic islands form over a stationary hotspot as the Pacific Plate moves, creating a chain of shield volcanoes.\n"
          ]
        }
      ],
      "source": [
        "print(\"New response:\",response)"
      ]
    },
    {
      "cell_type": "markdown",
      "metadata": {
        "id": "rnlXAIbuVjbn"
      },
      "source": [
        "# 3.Long-term memory of multiple sessions\n",
        "\n",
        "**Note**: To run this cell, make sure that you have run the 2.Short-term memory section first without closing the session."
      ]
    },
    {
      "cell_type": "markdown",
      "metadata": {
        "id": "ykca49tl3kq1"
      },
      "source": [
        "#### Saving the previous session"
      ]
    },
    {
      "cell_type": "code",
      "execution_count": 19,
      "metadata": {
        "id": "NclxG-kiyl_7",
        "outputId": "dba6fa1a-3053-4e59-f992-6c3438c7ccc9",
        "colab": {
          "base_uri": "https://localhost:8080/"
        }
      },
      "outputs": [
        {
          "output_type": "stream",
          "name": "stdout",
          "text": [
            "Hawaii's volcanic islands form over a stationary hotspot as the Pacific Plate moves, creating a chain of shield volcanoes.\n"
          ]
        }
      ],
      "source": [
        "session01=response\n",
        "print(session01)"
      ]
    },
    {
      "cell_type": "markdown",
      "metadata": {
        "id": "eEV9zA6U21Af"
      },
      "source": [
        "#### Without long-term memory between sessions"
      ]
    },
    {
      "cell_type": "code",
      "execution_count": 20,
      "metadata": {
        "id": "z_oVA8P52sF3",
        "outputId": "cbffc656-cc54-471c-ee29-ff476ee6f5ae",
        "colab": {
          "base_uri": "https://localhost:8080/"
        }
      },
      "outputs": [
        {
          "output_type": "stream",
          "name": "stdout",
          "text": [
            "I'm sorry, but I need more information to provide a helpful answer. Could you specify the location you're considering for your vacation? Safety can depend on various factors, including geological hazards, weather conditions, and local advisories.\n"
          ]
        }
      ],
      "source": [
        "uinput=\"Is in safe to go there on vacation\"\n",
        "response = openai_api.make_openai_api_call(uinput,mrole,mcontent,user_role)\n",
        "print(response)"
      ]
    },
    {
      "cell_type": "markdown",
      "metadata": {
        "id": "TlbLA2kd25hl"
      },
      "source": [
        "#### With long-term memory between sessions\n",
        "\n",
        "In this scenario,the output of a previous request is added to the input of the previous request."
      ]
    },
    {
      "cell_type": "code",
      "execution_count": 21,
      "metadata": {
        "id": "p6NOImrg2dww",
        "outputId": "f2a3f26b-f94d-4f7e-ef01-a2c55af34df1",
        "colab": {
          "base_uri": "https://localhost:8080/"
        }
      },
      "outputs": [
        {
          "output_type": "stream",
          "name": "stdout",
          "text": [
            "Response: Hawaii is generally considered a safe destination for tourists, even though it is home to active volcanoes. The Hawaiian Islands are formed by a hotspot beneath the Pacific Plate, which creates a chain of shield volcanoes. The most active volcanoes, like Kilauea and Mauna Loa on the Big Island, are closely monitored by the United States Geological Survey (USGS) and other agencies.\n",
            "\n",
            "When planning a vacation to Hawaii, it's important to stay informed about any volcanic activity, especially if you plan to visit areas near active volcanoes. The USGS provides regular updates and alerts about volcanic activity, which can help you make informed decisions about your travel plans.\n",
            "\n",
            "In general, the areas most affected by volcanic activity are limited to specific regions, and the rest of the islands remain safe for tourists. Popular tourist destinations, such as Honolulu on Oahu or the beaches of Maui, are typically far from active volcanic zones.\n",
            "\n",
            "If you plan to visit areas near active volcanoes, such as Hawaii Volcanoes National Park, it's important to follow safety guidelines and heed any warnings or closures issued by park authorities. By staying informed and following safety recommendations, you can enjoy a safe and memorable vacation in Hawaii.\n"
          ]
        }
      ],
      "source": [
        "ninput = \"Let's continue our dialog.\"\n",
        "uinput=ninput + session01 + \"Would it be safe to go there on vacation?\"\n",
        "response = openai_api.make_openai_api_call(uinput,mrole,mcontent,user_role)\n",
        "#print(\"Dialog:\", uinput,\"\\n\") // optional\n",
        "print(\"Response:\", response)"
      ]
    },
    {
      "cell_type": "markdown",
      "metadata": {
        "id": "rCzH3cmaWHrh"
      },
      "source": [
        "# 4.Long-term memory of multiple cross-topic sessions"
      ]
    },
    {
      "cell_type": "markdown",
      "metadata": {
        "id": "k0nh4pOZ3f1b"
      },
      "source": [
        "#### Saving the session"
      ]
    },
    {
      "cell_type": "code",
      "execution_count": 22,
      "metadata": {
        "id": "x7Kozrox3slj",
        "outputId": "4a53d0be-77f1-49fc-8f77-c0a97db341c0",
        "colab": {
          "base_uri": "https://localhost:8080/"
        }
      },
      "outputs": [
        {
          "output_type": "stream",
          "name": "stdout",
          "text": [
            "Let's continue our dialog.Hawaii's volcanic islands form over a stationary hotspot as the Pacific Plate moves, creating a chain of shield volcanoes.Would it be safe to go there on vacation?Hawaii is generally considered a safe destination for tourists, even though it is home to active volcanoes. The Hawaiian Islands are formed by a hotspot beneath the Pacific Plate, which creates a chain of shield volcanoes. The most active volcanoes, like Kilauea and Mauna Loa on the Big Island, are closely monitored by the United States Geological Survey (USGS) and other agencies.\n",
            "\n",
            "When planning a vacation to Hawaii, it's important to stay informed about any volcanic activity, especially if you plan to visit areas near active volcanoes. The USGS provides regular updates and alerts about volcanic activity, which can help you make informed decisions about your travel plans.\n",
            "\n",
            "In general, the areas most affected by volcanic activity are limited to specific regions, and the rest of the islands remain safe for tourists. Popular tourist destinations, such as Honolulu on Oahu or the beaches of Maui, are typically far from active volcanic zones.\n",
            "\n",
            "If you plan to visit areas near active volcanoes, such as Hawaii Volcanoes National Park, it's important to follow safety guidelines and heed any warnings or closures issued by park authorities. By staying informed and following safety recommendations, you can enjoy a safe and memorable vacation in Hawaii.\n"
          ]
        }
      ],
      "source": [
        "session02=uinput + response\n",
        "print(session02)"
      ]
    },
    {
      "cell_type": "code",
      "execution_count": 23,
      "metadata": {
        "id": "fTeqICyJ4D25",
        "outputId": "8e436fa6-26e3-4cc9-edd1-0a184bb8dcf7",
        "colab": {
          "base_uri": "https://localhost:8080/"
        }
      },
      "outputs": [
        {
          "output_type": "stream",
          "name": "stdout",
          "text": [
            "Dialog: I would like to organize a geological visit in Arizona.Where should I start? \n",
            "\n"
          ]
        }
      ],
      "source": [
        "ninput =\"I would like to organize a geological visit in Arizona.\"\n",
        "uinput=ninput+\"Where should I start?\"\n",
        "response = openai_api.make_openai_api_call(uinput,mrole,mcontent,user_role)\n",
        "print(\"Dialog:\", uinput,\"\\n\") #optional"
      ]
    },
    {
      "cell_type": "code",
      "execution_count": 24,
      "metadata": {
        "id": "dx2BrqsqmGX2",
        "outputId": "74eb4835-6ada-44f9-9eed-fb24d5ebb60c",
        "colab": {
          "base_uri": "https://localhost:8080/"
        }
      },
      "outputs": [
        {
          "output_type": "stream",
          "name": "stdout",
          "text": [
            "Response: Organizing a geological visit in Arizona is a fantastic idea, as the state is rich in diverse geological features. Here's a step-by-step guide to help you plan your trip:\n",
            "\n",
            "1. **Identify Key Geological Sites:**\n",
            "   - **Grand Canyon National Park:** Known for its immense size and its intricate and colorful landscape, the Grand Canyon offers a unique view into the Earth's geological history.\n",
            "   - **Petrified Forest National Park:** Famous for its large deposits of petrified wood, this park also features colorful badlands and significant archaeological sites.\n",
            "   - **Monument Valley:** Known for its iconic sandstone buttes, this area is a classic example of the Colorado Plateau's geology.\n",
            "   - **Sedona:** Renowned for its stunning red rock formations, Sedona is a great place to explore sedimentary rock layers and erosional features.\n",
            "   - **Meteor Crater:** This is one of the best-preserved meteorite impact sites on Earth, offering insights into planetary geology.\n",
            "   - **Antelope Canyon:** Famous for its slot canyons, this site provides a unique look at erosion and sedimentary processes.\n",
            "\n",
            "2. **Research and Plan Itinerary:**\n",
            "   - Determine the duration of your visit and prioritize sites based on your interests and time constraints.\n",
            "   - Consider the travel distances between sites, as Arizona is a large state and some locations are remote.\n",
            "\n",
            "3. **Logistics:**\n",
            "   - **Transportation:** Renting a car is often the best option for flexibility and access to remote areas.\n",
            "   - **Accommodation:** Book accommodations in advance, especially near popular sites like the Grand Canyon and Sedona.\n",
            "   - **Permits and Fees:** Check if any sites require permits or entrance fees, and arrange these ahead of time.\n",
            "\n",
            "4. **Guided Tours and Educational Resources:**\n",
            "   - Consider hiring a local guide or joining a guided tour for in-depth geological insights.\n",
            "   - Visit visitor centers and museums for educational exhibits and resources.\n",
            "\n",
            "5. **Safety and Preparedness:**\n",
            "   - Be prepared for varying weather conditions, especially in desert and high-altitude areas.\n",
            "   - Carry plenty of water, sun protection, and appropriate clothing and footwear for hiking and exploring.\n",
            "\n",
            "6. **Cultural and Environmental Considerations:**\n",
            "   - Respect local cultures and traditions, especially when visiting sites on Native American lands.\n",
            "   - Follow Leave No Trace principles to minimize your environmental impact.\n",
            "\n",
            "By following these steps, you can create a well-rounded and educational geological visit to Arizona. Enjoy your exploration of this geologically rich state!\n"
          ]
        }
      ],
      "source": [
        "print(\"Response:\", response)"
      ]
    },
    {
      "cell_type": "code",
      "execution_count": 25,
      "metadata": {
        "id": "livVllea4YCH"
      },
      "outputs": [],
      "source": [
        "session02=response\n",
        "ninput=\"Sum up this dialog in a short paragraph:\"\n",
        "uinput=ninput+ session01 + session02\n",
        "response = openai_api.make_openai_api_call(uinput,mrole,mcontent,user_role)\n",
        "#print(\"Dialog:\", uinput,\"\\n\")#optional"
      ]
    },
    {
      "cell_type": "code",
      "execution_count": 26,
      "metadata": {
        "id": "ZhyAu_BunK1q",
        "outputId": "8d65a2c6-5e3b-41a1-f2c0-9bf22577f4a6",
        "colab": {
          "base_uri": "https://localhost:8080/"
        }
      },
      "outputs": [
        {
          "output_type": "stream",
          "name": "stdout",
          "text": [
            "Response: The dialog discusses the formation of Hawaii's volcanic islands over a stationary hotspot as the Pacific Plate moves, resulting in a chain of shield volcanoes. It then provides a detailed guide for organizing a geological visit to Arizona, highlighting the state's diverse geological features. Key sites include the Grand Canyon, Petrified Forest, Monument Valley, Sedona, Meteor Crater, and Antelope Canyon. The guide advises on planning the itinerary, considering logistics like transportation and accommodation, and emphasizes the importance of guided tours, safety, and respecting cultural and environmental considerations. By following these steps, visitors can enjoy a comprehensive and educational geological exploration of Arizona.\n"
          ]
        }
      ],
      "source": [
        "print(\"Response:\", response)"
      ]
    }
  ],
  "metadata": {
    "colab": {
      "provenance": []
    },
    "kernelspec": {
      "display_name": "Python 3",
      "name": "python3"
    },
    "language_info": {
      "name": "python"
    }
  },
  "nbformat": 4,
  "nbformat_minor": 0
}